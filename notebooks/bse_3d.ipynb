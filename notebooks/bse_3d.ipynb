{
 "cells": [
  {
   "cell_type": "markdown",
   "metadata": {},
   "source": [
    "# Bethe-Salpeter equation in QTCI representation with patches (############## TODO: QTCI or QTT?)"
   ]
  },
  {
   "cell_type": "code",
   "execution_count": 2,
   "metadata": {},
   "outputs": [],
   "source": [
    "import QuanticsGrids as QG\n",
    "using TensorCrossInterpolation\n",
    "import TCIAlgorithms as TCIA\n",
    "using HubbardAtoms\n",
    "using SparseIR\n",
    "using Quantics\n",
    "using ITensors"
   ]
  },
  {
   "cell_type": "markdown",
   "metadata": {},
   "source": [
    "## Bethe-Salpeter equation\n",
    "\n",
    "Our objective in this work is computing the Bethe-Salpeter equation (BSE), which relates the full vertex $F^r$, the bare susceptibility ${\\Chi_0}^r$ and the channel-irreducible vertex $\\Gamma^r$\n",
    "$$\n",
    "    F^r_{\\nu\\nu'\\omega} = \\Gamma^r_{\\nu\\nu'\\omega} + \\frac{1}{\\beta^2}\\sum_{\\nu''\\nu'''} F^r_{\\nu\\nu''\\omega} {\\Chi_0}^r_{\\nu''\\nu'''\\omega} \\Gamma^r_{\\nu'''\\nu'\\omega}.\n",
    "$$\n",
    "The sum term is equal to the channel-reducible vertex $\\Phi^r \\equiv F^r_{\\nu\\nu'\\omega} - \\Gamma^r_{\\nu\\nu'\\omega}$.\n",
    "Here, $r$ denotes one of four (density $r=d$, magnetic $r=m$, singlet $r=s$, triplet $r=t$) channels, $\\nu$ (and its primed variants) a fermionic Matsubara frequency (of the form $(2n+1)\\pi/\\beta$ for some integer $n$) and $\\omega$ a bosonic Matsubara frequency (of the form $2m\\pi/\\beta$ for some integer $m$).\n",
    "The sums are performed over all fermionic frequencies and $\\beta = 1/T$ is inverse temperature.\n",
    "\n",
    "If we chose to straightforwardly represent our quantities by sampling them in a box centered on the origin, the BSE would be easy to implement: For each bosonic frequency, two matrix-matrix multiplications would suffice.\n",
    "But as this strategy sooner rather than later hits a wall in terms of computing power and memory requirements when approaching lower temperatures, where a larger frequency box is required to yield the same accuracy target in the BSE, people have been looking for alternative solutions for some time. (############## TODO: sources)\n",
    "\n",
    "## Quantics tensor trains\n",
    "\n",
    "In the present work, we utilize a quantics tensor train (QTT) representation [@Shinaoka2023].\n",
    "A function of a single Matsubara frequency $f_\\nu$ can be approximately represented by its values on a $2^R$-frequency mesh $\\nu \\in \\{\\pi/\\beta, 3\\pi/\\beta, \\ldots, (2^{R+1} - 1)\\pi/\\beta\\}$ (in practice, the frequency box is usually centered on the origin) where $R \\in \\mathbb{N}$ controls the accuracy of the representation.\n",
    "Each such $\\nu$ can be written as\n",
    "$$\n",
    "    \\nu = \\left(\\nu_1 2^R + \\nu_2 2^{R-1} + \\ldots + \\nu_R + 1\\right)\\pi/\\beta\n",
    "$$\n",
    "where the $\\nu_r \\in \\{0, 1\\}$ are binary variables.\n",
    "Thus $f$ can be viewed as an order-$R$ tensor,\n",
    "$$\n",
    "    f_\\nu = f_{\\nu_1\\nu_2\\ldots\\nu_R}\n",
    "$$\n",
    "which then allows us to perform SVD and convert it into a tensor train (also known as multi-particle state or MPS)\n",
    "$$\n",
    "    f_{\\nu_1\\nu_2\\ldots\\nu_R} \\approx \\sum_{\\alpha_1=1}^{D_1} \\cdots \\sum_{\\alpha_{R-1}=1}^{D_{R-1}} f^{(1)}_{\\nu_1,1\\alpha_1} f^{(2)}_{\\nu_2,\\alpha_1\\alpha_2} \\cdots f^{(R)}_{\\nu_R,\\alpha_{R-1}1}. \n",
    "$$\n",
    "Here, $f^{(r)}_{\\nu_r,\\alpha_{r-1}\\alpha_{r}}$ is a $2 \\times D_{r-1} \\times D_r$ tensor and $D_r$ is the bond dimension between two neighboring tensors.\n",
    "We call $\\alpha_r$ the bond (or internal) indices, $\\nu_r$ the external indices and $D = \\max_r D_r$ the tensor train's bond dimension.\n",
    "If it is high enough, $D \\sim 2^R$, the tensor is represented exactly, but to compress the original function, we can truncate the tensor and throw away unimportant information.\n",
    "We will not go into the details of how to find the tensor train representation here.\n",
    "\n",
    "### Multi-particle operators\n",
    "\n",
    "A very similar concecpt is that of an multi-particle operator (MPO), which consists of order 4 tensors and has two external indices per tensor.\n",
    "As the name implies, an MPO can be multiplied onto an MPS (or another MPO), being analogous to a matrix if MPSs are viewed as analogous to vectors:\n",
    "$$\n",
    "    (A \\cdot f)_{\\nu_1\\ldots\\nu_R} = \\sum_{\\nu_1',\\ldots,\\nu_R'} A^{(1),\\nu_1'}_{\\nu_1} \\cdot \\ldots \\cdot A^{(R),\\nu_R'}_{\\nu_R} f^{(1)}_{\\nu_1'} \\cdot \\ldots \\cdot f^{(R)}_{\\nu_R'} = \\sum_{\\nu_1',\\ldots,\\nu_R'} \\sum_{\\alpha_{A,1},\\ldots,\\alpha_{A,R}} \\sum_{\\alpha_{f,1},\\ldots,\\alpha_{f,R}} A^{(1),\\nu_1'}_{\\nu_1,1\\alpha_{A,1}} f^{(1)}_{\\nu_1',1\\alpha_{f,1}} \\cdots A^{(R),\\nu_R'}_{\\nu_R,\\alpha_{A,R}1} f^{(R)}_{\\nu_R',\\alpha_{f,R}1}\n",
    "$$\n",
    "\n",
    "### Multiple variables\n",
    "\n",
    "To form the MPS of a multivariate function $f_{\\nu\\nu'}$, we have two choices:\n",
    "\n",
    "- Interleaved representation: $2R$ tensors of dimension $2 \\times D_{r-1} \\times D_r$.\n",
    "    $$\n",
    "        f_{\\nu\\nu'} \\approx \\sum_{\\alpha_1=1}^{D_1} \\cdots \\sum_{\\alpha_{2R-1}=1}^{D_{2R-1}} f^{(1)}_{\\nu_1,1\\alpha_1} f^{(2)}_{\\nu_1',\\alpha_1\\alpha_2} f^{(3)}_{\\nu_2,\\alpha_2\\alpha_3} f^{(4)}_{\\nu_2',\\alpha_3\\alpha_4} \\cdots f^{(2R-1)}_{\\nu_R,\\alpha_{2R-2}\\alpha_{2R-1}} f^{(2R)}_{\\nu_R',\\alpha_{2R-1}1}\n",
    "    $$\n",
    "- Fused representation: $R$ tensors of dimension $4 \\times D_{r-1} \\times D_r$.\n",
    "    $$\n",
    "        f_{\\nu\\nu'} \\approx \\sum_{\\alpha_1=1}^{D_1} \\cdots \\sum_{\\alpha_{R-1}=1}^{D_{R-1}} f^{(1)}_{(\\nu_1,\\nu_1'),1\\alpha_1} f^{(2)}_{(\\nu_2,\\nu_2'),\\alpha_1\\alpha_2} \\cdots f^{(R)}_{(\\nu_R,\\nu_R'),\\alpha_{R-1}1}\n",
    "    $$\n",
    "\n",
    "In the following, we will work in the fused representation.\n",
    "\n",
    "### Multiplication\n",
    "\n",
    "To compute the BSE, we need to multiply MPSs by each other.\n",
    "For clarity, we will use $i$, $j$ and $k$ in this section instead of $\\nu$, $\\nu'$ and $\\nu''$.\n",
    "$$\n",
    "    h_{ij} = \\sum_k f_{ik} g_{kj}\n",
    "$$\n",
    "To do that, we introduce an auxilliary MPO $\\hat{f}$ such that\n",
    "$$\n",
    "    h_{ij} = \\sum_{kl} \\hat{f}^{kl}_{ij} g_{kl}\n",
    "$$\n",
    "which is given by\n",
    "$$\n",
    "    \\hat{f}^{kl}_{ij} = \\sum_{\\alpha_1,\\ldots,\\alpha_{R_1}} \\hat{f}^{(1),(k_1, l_1)}_{(i_1, j_1),1\\alpha_1} \\hat{f}^{(2),(k_2, l_2)}_{(i_2, j_2),\\alpha_1\\alpha_2} \\cdots \\hat{f}^{(R),(k_R, l_R)}_{(i_R, j_R),\\alpha_{R-1}1}\n",
    "$$\n",
    "with\n",
    "$$\n",
    "    \\hat{f}^{(r),(k_r, l_r)}_{(i_r, j_r),\\alpha_{r-1}\\alpha_r} = f^{(r)}_{(k_r, i_r),\\alpha_{r-1}\\alpha_r} \\delta_{l_rj_r}.\n",
    "$$"
   ]
  },
  {
   "cell_type": "markdown",
   "metadata": {},
   "source": [
    "To demonstrate the discussed techniques, we choose the Hubbard Atom, where exact expressions for all quantities are known [@Thunström2018] and implemented in the package `HubbardAtoms.jl`."
   ]
  },
  {
   "cell_type": "code",
   "execution_count": 3,
   "metadata": {},
   "outputs": [
    {
     "data": {
      "text/plain": [
       "HubbardAtom(1.6, 2.3, 6.296538261026656, 0.6400000000000001, 2.3176348522138412)"
      ]
     },
     "metadata": {},
     "output_type": "display_data"
    }
   ],
   "source": [
    "U = 1.6\n",
    "beta = 2.3\n",
    "model = HubbardAtom(U, beta)"
   ]
  },
  {
   "cell_type": "markdown",
   "metadata": {},
   "source": []
  },
  {
   "cell_type": "code",
   "execution_count": 13,
   "metadata": {},
   "outputs": [
    {
     "data": {
      "text/plain": [
       "4-element Vector{Vector{Index{Int64}}}:\n",
       " [(dim=2|id=719|\"k=1\"), (dim=2|id=485|\"k´=1\"), (dim=2|id=707|\"q=1\")]\n",
       " [(dim=2|id=744|\"k=2\"), (dim=2|id=544|\"k´=2\"), (dim=2|id=776|\"q=2\")]\n",
       " [(dim=2|id=916|\"k=3\"), (dim=2|id=399|\"k´=3\"), (dim=2|id=678|\"q=3\")]\n",
       " [(dim=2|id=198|\"k=4\"), (dim=2|id=694|\"k´=4\"), (dim=2|id=345|\"q=4\")]"
      ]
     },
     "metadata": {},
     "output_type": "display_data"
    }
   ],
   "source": [
    "R = 4\n",
    "N = 2^R\n",
    "maxbonddim = 40\n",
    "grid = QG.InherentDiscreteGrid{3}(R, (-N + 1, -N + 1, -N); step=2, unfoldingscheme=:fused)\n",
    "\n",
    "base = 2\n",
    "sitesk = [Index(base, \"k=$n\") for n in 1:R] # ν\n",
    "sitesk´ = [Index(base, \"k´=$n\") for n in 1:R] # ν´\n",
    "sitesq = [Index(base, \"q=$n\") for n in 1:R] # ω\n",
    "sites = collect(collect.(zip(sitesk, sitesk´, sitesq)))"
   ]
  },
  {
   "cell_type": "code",
   "execution_count": 14,
   "metadata": {},
   "outputs": [
    {
     "data": {
      "text/plain": [
       "makeverts (generic function with 1 method)"
      ]
     },
     "metadata": {},
     "output_type": "display_data"
    }
   ],
   "source": [
    "function makeverts(ch)\n",
    "    function fq_full(x, y, z)\n",
    "        return full_vertex(ch, model, (FermionicFreq(x), FermionicFreq(y), BosonicFreq(z)))\n",
    "    end\n",
    "    fI_full = QG.quanticsfunction(ComplexF64, grid, fq_full)\n",
    "\n",
    "    # we absorb 1/β^2 into the chi0 function\n",
    "    function fq_chi0(x, y, z)\n",
    "        return 1 / beta^2 *\n",
    "            chi0(ch, model, (FermionicFreq(x), FermionicFreq(y), BosonicFreq(z)))\n",
    "    end\n",
    "    fI_chi0 = QG.quanticsfunction(ComplexF64, grid, fq_chi0)\n",
    "\n",
    "    function fq_gamma(x, y, z)\n",
    "        return gamma(ch, model, (FermionicFreq(x), FermionicFreq(y), BosonicFreq(z)))\n",
    "    end\n",
    "    fI_gamma = QG.quanticsfunction(ComplexF64, grid, fq_gamma)\n",
    "\n",
    "    return fq_full, fq_chi0, fq_gamma, fI_full, fI_chi0, fI_gamma\n",
    "end"
   ]
  },
  {
   "cell_type": "code",
   "execution_count": 15,
   "metadata": {},
   "outputs": [
    {
     "data": {
      "text/plain": [
       "interpolateverts (generic function with 1 method)"
      ]
     },
     "metadata": {},
     "output_type": "display_data"
    }
   ],
   "source": [
    "function interpolateverts(fI_chi0, fI_full, fI_gamma)\n",
    "    localdims = dim.(sites)\n",
    "    sitedims = [dim.(s) for s in sites]\n",
    "    pordering = TCIA.PatchOrdering(collect(1:R))\n",
    "    initialpivots = [QG.origcoord_to_quantics(grid, 0)] # approx center of grid\n",
    "\n",
    "    full_patches = reshape(\n",
    "        TCIA.adaptiveinterpolate(TCIA.makeprojectable(Float64, fI_full, localdims), pordering; verbosity=0, maxbonddim, initialpivots),\n",
    "        sitedims,\n",
    "    )\n",
    "    chi0_patches = reshape(\n",
    "        TCIA.adaptiveinterpolate(TCIA.makeprojectable(Float64, fI_chi0, localdims), pordering; verbosity=0, maxbonddim, initialpivots),\n",
    "        sitedims,\n",
    "    )\n",
    "    gamma_patches = reshape(\n",
    "        TCIA.adaptiveinterpolate(TCIA.makeprojectable(Float64, fI_gamma, localdims), pordering; verbosity=0, maxbonddim, initialpivots),\n",
    "        sitedims,\n",
    "    )\n",
    "\n",
    "    return full_patches, chi0_patches, gamma_patches\n",
    "end"
   ]
  },
  {
   "cell_type": "code",
   "execution_count": 16,
   "metadata": {},
   "outputs": [
    {
     "data": {
      "text/plain": [
       "makevertsdiagonal (generic function with 1 method)"
      ]
     },
     "metadata": {},
     "output_type": "display_data"
    }
   ],
   "source": [
    "function makevertsdiagonal(full_patches, chi0_patches, gamma_patches)\n",
    "    siteskk´_vec = [[x, y] for (x, y) in zip(sitesk, sitesk´)]\n",
    "    sitesq_vec = [[z] for z in sitesq]\n",
    "    sites_separateq = [x for pair in zip(siteskk´_vec, sitesq_vec) for x in pair]\n",
    "\n",
    "    full_mps = TCIA.ProjMPSContainer(Float64, full_patches, sites)\n",
    "    full_kk´_q = Quantics.rearrange_siteinds(full_mps, sites_separateq)\n",
    "    full_kk´_qq´ = Quantics.makesitediagonal(full_kk´_q, \"q\")\n",
    "    full_ptt = TCIA.ProjTTContainer{Float64}(full_kk´_qq´)\n",
    "\n",
    "    chi0_mps = TCIA.ProjMPSContainer(Float64, chi0_patches, sites)\n",
    "    chi0_kk´_q = Quantics.rearrange_siteinds(chi0_mps, sites_separateq)\n",
    "    chi0_kk´_qq´ = Quantics.makesitediagonal(chi0_kk´_q, \"q\")\n",
    "    chi0_kk´_q´q´´ = prime(chi0_kk´_qq´)\n",
    "    chi0_ptt = TCIA.ProjTTContainer{Float64}(chi0_kk´_q´q´´)\n",
    "\n",
    "    gamma_mps = TCIA.ProjMPSContainer(Float64, gamma_patches, sites)\n",
    "    gamma_kk´_q = Quantics.rearrange_siteinds(gamma_mps, sites_separateq)\n",
    "    gamma_kk´_qq´ = Quantics.makesitediagonal(gamma_kk´_q, \"q\")\n",
    "    gamma_kk´_q´´q´´´ = prime(gamma_kk´_qq´, 2)\n",
    "    gamma_ptt = TCIA.ProjTTContainer{Float64}(gamma_kk´_q´´q´´´)\n",
    "\n",
    "    diagonal_sites = full_kk´_qq´.sites\n",
    "\n",
    "    return full_ptt, chi0_ptt, gamma_ptt, diagonal_sites\n",
    "end"
   ]
  },
  {
   "cell_type": "code",
   "execution_count": 17,
   "metadata": {},
   "outputs": [
    {
     "data": {
      "text/plain": [
       "calculatebse (generic function with 1 method)"
      ]
     },
     "metadata": {},
     "output_type": "display_data"
    }
   ],
   "source": [
    "function calculatebse(full_ptt, chi0_ptt, gamma_ptt, diagonal_sites)\n",
    "    pordering = TCIA.PatchOrdering(collect(1:(2R)))\n",
    "\n",
    "    chi0_gamma_ptt = TCIA.adaptivematmul(chi0_ptt, gamma_ptt, pordering; maxbonddim)\n",
    "    phi_bse_diagonal = TCIA.adaptivematmul(full_ptt, chi0_gamma_ptt, pordering; maxbonddim)\n",
    "    phi_bse_diagonal_projmps = TCIA.ProjMPSContainer(Float64, phi_bse_diagonal, diagonal_sites)\n",
    "    phi_bse_projmps_kk´_q = Quantics.extractdiagonal(phi_bse_diagonal_projmps, \"q\")\n",
    "    phi_bse_projmps_kk´q = Quantics.rearrange_siteinds(phi_bse_projmps_kk´_q, sites)\n",
    "    phi_bse = TCIA.ProjTTContainer{Float64}(phi_bse_projmps_kk´q)\n",
    "\n",
    "    return phi_bse\n",
    "end"
   ]
  },
  {
   "cell_type": "code",
   "execution_count": 18,
   "metadata": {},
   "outputs": [
    {
     "data": {
      "text/plain": [
       "comparereference (generic function with 1 method)"
      ]
     },
     "metadata": {},
     "output_type": "display_data"
    }
   ],
   "source": [
    "function comparereference(phi_bse, fq_full, fq_chi0, fq_gamma)\n",
    "    # normal multiplication for comparison\n",
    "    box = [\n",
    "        (x, y, z) for x in range(-N + 1; step=2, length=N),\n",
    "        y in range(-N + 1; step=2, length=N), z in range(-N; step=2, length=N)\n",
    "    ]\n",
    "    chi0_exact = map(splat(fq_chi0), box)\n",
    "    full_exact = map(splat(fq_full), box)\n",
    "    gamma_exact = map(splat(fq_gamma), box)\n",
    "    phi_normalmul = stack(\n",
    "        gamma_exact[:, :, i] * chi0_exact[:, :, i] * full_exact[:, :, i] for i in 1:N\n",
    "    )\n",
    "\n",
    "    phi_adaptivemul = [phi_bse(QG.origcoord_to_quantics(grid, p)) for p in box]\n",
    "\n",
    "    return norm(phi_normalmul - phi_adaptivemul) / norm(phi_normalmul)\n",
    "end"
   ]
  },
  {
   "cell_type": "code",
   "execution_count": 19,
   "metadata": {},
   "outputs": [
    {
     "data": {
      "text/plain": [
       "(DensityChannel(), MagneticChannel(), SingletChannel(), TripletChannel())"
      ]
     },
     "metadata": {},
     "output_type": "display_data"
    }
   ],
   "source": [
    "ch_d = DensityChannel()\n",
    "ch_m = MagneticChannel()\n",
    "ch_s = SingletChannel()\n",
    "ch_t = TripletChannel()\n",
    "channels = (ch_d, ch_m, ch_s, ch_t)"
   ]
  },
  {
   "cell_type": "code",
   "execution_count": 20,
   "metadata": {},
   "outputs": [
    {
     "name": "stdout",
     "output_type": "stream",
     "text": [
      "DensityChannel():\t0.0006574657717592351\n",
      "MagneticChannel():\t0.0037716534948342324\n",
      "SingletChannel():\t0.011923999534902672\n",
      "TripletChannel():\t3.803564254435737e-15\n"
     ]
    }
   ],
   "source": [
    "for ch in channels\n",
    "    fq_full, fq_chi0, fq_gamma, fI_full, fI_chi0, fI_gamma = makeverts(ch)\n",
    "    full_patches, chi0_patches, gamma_patches = interpolateverts(fI_chi0, fI_full, fI_gamma)\n",
    "    full_ptt, chi0_ptt, gamma_ptt, diagonal_sites = makevertsdiagonal(full_patches, chi0_patches, gamma_patches)\n",
    "    phi_bse = calculatebse(full_ptt, chi0_ptt, gamma_ptt, diagonal_sites)\n",
    "    error = comparereference(phi_bse, fq_full, fq_chi0, fq_gamma)\n",
    "    println(ch, \":\\t\", error)\n",
    "end"
   ]
  },
  {
   "cell_type": "code",
   "execution_count": null,
   "metadata": {},
   "outputs": [],
   "source": []
  }
 ],
 "metadata": {
  "kernelspec": {
   "display_name": "Julia 1.11.0",
   "language": "julia",
   "name": "julia-1.11"
  },
  "language_info": {
   "file_extension": ".jl",
   "mimetype": "application/julia",
   "name": "julia",
   "version": "1.11.0"
  }
 },
 "nbformat": 4,
 "nbformat_minor": 2
}
