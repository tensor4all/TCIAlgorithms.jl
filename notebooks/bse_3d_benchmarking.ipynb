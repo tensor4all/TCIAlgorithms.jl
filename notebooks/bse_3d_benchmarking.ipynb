{
 "cells": [
  {
   "cell_type": "code",
   "execution_count": 2,
   "metadata": {},
   "outputs": [],
   "source": [
    "import QuanticsGrids as QG     \n",
    "# utilities for handling quantics representations\n",
    "import TCIAlgorithms as TCIA   \n",
    "# implementation of patching\n",
    "using HubbardAtoms             \n",
    "# exact results for the Hubbard atom\n",
    "using SparseIR                 \n",
    "# provides the MatsubaraFreq types used in the HubbardAtoms package\n",
    "using Quantics                 \n",
    "# high-level API for performing operations in QTT\n",
    "using ITensors                 \n",
    "# efficient tensor computations and tensor network calculations"
   ]
  },
  {
   "cell_type": "code",
   "execution_count": 3,
   "metadata": {},
   "outputs": [],
   "source": [
    "function main(U, beta, ch, R, maxbonddim)\n",
    "    grid, sites = setup(R)\n",
    "    plainfuncs, quanticsfuncs = makeverts(U, beta, ch, grid)\n",
    "    patchesfuncs = interpolateverts(quanticsfuncs, grid, maxbonddim, sites)\n",
    "    pttfuncs, diagonal_sites = makevertsdiagonal(patchesfuncs, sites)\n",
    "    phi_bse = calculatebse(pttfuncs, diagonal_sites, maxbonddim, sites)\n",
    "    error = comparereference(phi_bse, plainfuncs, grid)\n",
    "    return error\n",
    "end;"
   ]
  },
  {
   "cell_type": "code",
   "execution_count": 4,
   "metadata": {},
   "outputs": [],
   "source": [
    "function setup(R=4)\n",
    "    N = 2^R\n",
    "    grid = QG.InherentDiscreteGrid{3}(R, (-N + 1, -N + 1, -N);\n",
    "        step=2, unfoldingscheme=:fused)\n",
    "\n",
    "    sitesv = [Index(2, \"v=$r\") for r in 1:R]\n",
    "    sitesv´ = [Index(2, \"v´=$r\") for r in 1:R]\n",
    "    sitesw = [Index(2, \"w=$r\") for r in 1:R]\n",
    "    sitesfused = collect.(zip(sitesv, sitesv´, sitesw))\n",
    "    sites = (; sitesv, sitesv´, sitesw, sitesfused)\n",
    "\n",
    "    return grid, sites\n",
    "end;"
   ]
  },
  {
   "cell_type": "code",
   "execution_count": 5,
   "metadata": {},
   "outputs": [],
   "source": [
    "function makeverts(U, beta, ch, grid)\n",
    "    model = HubbardAtom(U, beta)\n",
    "\n",
    "    matsubara(v, v´, w) = (FermionicFreq(v), FermionicFreq(v´), BosonicFreq(w))\n",
    "\n",
    "    fq_full(v, v´, w) = real(full_vertex(ch, model, matsubara(v, v´, w)))\n",
    "    fq_chi0(v, v´, w) = 1 / beta^2 * real(chi0(ch, model, matsubara(v, v´, w)))\n",
    "    fq_gamma(v, v´, w) = real(gamma(ch, model, matsubara(v, v´, w)))\n",
    "    \n",
    "    plainfuncs = (; fq_full, fq_chi0, fq_gamma)\n",
    "\n",
    "    fI_full = QG.quanticsfunction(Float64, grid, fq_full)\n",
    "    fI_chi0 = QG.quanticsfunction(Float64, grid, fq_chi0)\n",
    "    fI_gamma = QG.quanticsfunction(Float64, grid, fq_gamma)\n",
    "    quanticsfuncs = (; fI_full, fI_chi0, fI_gamma)\n",
    "\n",
    "    return plainfuncs, quanticsfuncs\n",
    "end;"
   ]
  },
  {
   "cell_type": "code",
   "execution_count": 6,
   "metadata": {},
   "outputs": [],
   "source": [
    "function interpolateverts(quanticsfuncs, grid, maxbonddim, sites)\n",
    "    (; fI_full, fI_chi0, fI_gamma) = quanticsfuncs\n",
    "\n",
    "    localdims = dim.(sites.sitesfused)\n",
    "    projectable_full = TCIA.makeprojectable(Float64, fI_full, localdims)\n",
    "    projectable_chi0 = TCIA.makeprojectable(Float64, fI_chi0, localdims)\n",
    "    projectable_gamma = TCIA.makeprojectable(Float64, fI_gamma, localdims)\n",
    "\n",
    "    initialpivots = [QG.origcoord_to_quantics(grid, 0)] # approximate center\n",
    "    full_patches = TCIA.adaptiveinterpolate(projectable_full;\n",
    "                                            maxbonddim, initialpivots)\n",
    "    chi0_patches = TCIA.adaptiveinterpolate(projectable_chi0;\n",
    "                                            maxbonddim, initialpivots)\n",
    "    gamma_patches = TCIA.adaptiveinterpolate(projectable_gamma;\n",
    "                                            maxbonddim, initialpivots)\n",
    "\n",
    "    sitedims = [dim.(s) for s in sites.sitesfused]\n",
    "    full_patches = reshape(full_patches, sitedims)\n",
    "    chi0_patches = reshape(chi0_patches, sitedims)\n",
    "    gamma_patches = reshape(gamma_patches, sitedims)\n",
    "\n",
    "    patchesfuncs = (; full_patches, chi0_patches, gamma_patches)\n",
    "\n",
    "    return patchesfuncs\n",
    "end;"
   ]
  },
  {
   "cell_type": "code",
   "execution_count": 7,
   "metadata": {},
   "outputs": [],
   "source": [
    "function makevertsdiagonal(patchesfuncs, sites)\n",
    "    (; full_patches, chi0_patches, gamma_patches) = patchesfuncs\n",
    "    (; sitesv, sitesv´, sitesw, sitesfused) = sites\n",
    "\n",
    "    full_mps = TCIA.ProjMPSContainer(Float64, full_patches, sitesfused)\n",
    "    chi0_mps = TCIA.ProjMPSContainer(Float64, chi0_patches, sitesfused)\n",
    "    gamma_mps = TCIA.ProjMPSContainer(Float64, gamma_patches, sitesfused)\n",
    "\n",
    "    sitesvv´_vec = [[v, v´] for (v, v´) in zip(sitesv, sitesv´)]\n",
    "    sitesw_vec = [[w] for w in sitesw]\n",
    "    sites_separatew = [x for pair in zip(sitesvv´_vec, sitesw_vec) for x in pair]\n",
    "    full_vv´_w = Quantics.rearrange_siteinds(full_mps, sites_separatew)\n",
    "    chi0_vv´_w = Quantics.rearrange_siteinds(chi0_mps, sites_separatew)\n",
    "    gamma_vv´_w = Quantics.rearrange_siteinds(gamma_mps, sites_separatew)\n",
    "\n",
    "    full_vv´_ww´ = Quantics.makesitediagonal(full_vv´_w, \"w\")\n",
    "    chi0_vv´_ww´ = Quantics.makesitediagonal(chi0_vv´_w, \"w\")\n",
    "    gamma_vv´_ww´ = Quantics.makesitediagonal(gamma_vv´_w, \"w\")\n",
    "    diagonal_sites = full_vv´_ww´.sites\n",
    "\n",
    "    chi0_vv´_w´w´´ = prime(chi0_vv´_ww´)\n",
    "    gamma_vv´_w´´w´´´ = prime(gamma_vv´_ww´, 2)\n",
    "\n",
    "    full_ptt = TCIA.ProjTTContainer{Float64}(full_vv´_ww´)\n",
    "    chi0_ptt = TCIA.ProjTTContainer{Float64}(chi0_vv´_w´w´´)\n",
    "    gamma_ptt = TCIA.ProjTTContainer{Float64}(gamma_vv´_w´´w´´´)\n",
    "\n",
    "    pttfuncs = (; full_ptt, chi0_ptt, gamma_ptt)\n",
    "\n",
    "    return pttfuncs, diagonal_sites\n",
    "end;"
   ]
  },
  {
   "cell_type": "code",
   "execution_count": 8,
   "metadata": {},
   "outputs": [],
   "source": [
    "function calculatebse(pttfuncs, diagonal_sites, maxbonddim, sites)\n",
    "    (; full_ptt, chi0_ptt, gamma_ptt) = pttfuncs\n",
    "    pordering = TCIA.PatchOrdering(collect(eachindex(diagonal_sites)))\n",
    "\n",
    "    chi0_gamma_ptt = TCIA.adaptivematmul(chi0_ptt, gamma_ptt, pordering;\n",
    "                                         maxbonddim)\n",
    "    phi_bse_diagonal = TCIA.adaptivematmul(full_ptt, chi0_gamma_ptt, pordering;\n",
    "                                           maxbonddim)\n",
    "\n",
    "    phi_bse_diagonal_projmps = TCIA.ProjMPSContainer(Float64, phi_bse_diagonal,\n",
    "                                                     diagonal_sites)\n",
    "    phi_bse_projmps_vv´_w = Quantics.extractdiagonal(phi_bse_diagonal_projmps, \"w\")\n",
    "    phi_bse_projmps_vv´w = Quantics.rearrange_siteinds(phi_bse_projmps_vv´_w,\n",
    "                                                       sites.sitesfused)\n",
    "    phi_bse = TCIA.ProjTTContainer{Float64}(phi_bse_projmps_vv´w)\n",
    "\n",
    "    return phi_bse\n",
    "end;"
   ]
  },
  {
   "cell_type": "code",
   "execution_count": 9,
   "metadata": {},
   "outputs": [],
   "source": [
    "function comparereference(phi_bse, plainfuncs, grid)\n",
    "    N = 2^(grid.R)\n",
    "    vv = range(-N + 1; step=2, length=N)\n",
    "    v´v´ = range(-N + 1; step=2, length=N)\n",
    "    ww = range(-N; step=2, length=N)\n",
    "    box = [(v, v´, w) for v in vv, v´ in v´v´, w in ww]\n",
    "\n",
    "    (; fq_full, fq_chi0, fq_gamma) = plainfuncs\n",
    "    bse_formula(v, v´, w) = sum(fq_full(v, v´´, w) *\n",
    "                                fq_chi0(v´´, v´´´, w) *\n",
    "                                fq_gamma(v´´´, v´, w) for v´´ in vv, v´´´ in vv)\n",
    "    phi_normalmul = map(splat(bse_formula), box)\n",
    "\n",
    "    phi_adaptivemul = [phi_bse(QG.origcoord_to_quantics(grid, p)) for p in box]\n",
    "\n",
    "    error = norm(phi_normalmul - phi_adaptivemul, Inf) / norm(phi_normalmul, Inf)\n",
    "    return error\n",
    "end;"
   ]
  },
  {
   "cell_type": "code",
   "execution_count": null,
   "metadata": {},
   "outputs": [
    {
     "name": "stdout",
     "output_type": "stream",
     "text": [
      "Channel\t\t\tError\n",
      "DensityChannel()\t4.578295295493737e-14\n",
      "MagneticChannel("
     ]
    }
   ],
   "source": [
    "ch_d = DensityChannel()\n",
    "ch_m = MagneticChannel()\n",
    "ch_s = SingletChannel()\n",
    "ch_t = TripletChannel()\n",
    "channels = (ch_d, ch_m, ch_s, ch_t)\n",
    "\n",
    "println(\"Channel\", \"\\t\\t\\t\", \"Error\")\n",
    "for ch in channels\n",
    "    error = main(3.0, 10.0, ch, 4, 40)\n",
    "    println(ch, \"\\t\", error)\n",
    "end"
   ]
  },
  {
   "cell_type": "markdown",
   "metadata": {},
   "source": [
    "Results from our implementation are up to floating point accuracy identical to the reference."
   ]
  },
  {
   "cell_type": "markdown",
   "metadata": {},
   "source": [
    "# Scaling analysis\n",
    "\n",
    "To see how the number of patches we create depends on $R$ and on $D_\\mathrm{max}$, we set $U=1$ and $\\beta = 1.3$ and `adaptiveinterpolate` the full vertex in the density channel $F^{\\mathrm{d}}$."
   ]
  },
  {
   "cell_type": "code",
   "execution_count": null,
   "metadata": {},
   "outputs": [],
   "source": [
    "using CairoMakie          # plotting library"
   ]
  },
  {
   "cell_type": "code",
   "execution_count": null,
   "metadata": {},
   "outputs": [],
   "source": [
    "function numpatches(R, maxbonddim, tolerance=1e-8)\n",
    "    grid, sites = setup(R)\n",
    "\n",
    "    U = 1.0\n",
    "    beta = 1.3\n",
    "    ch = DensityChannel()\n",
    "    _, quanticsfuncs = makeverts(U, beta, ch, grid)\n",
    "\n",
    "    localdims = dim.(sites.sitesfused)\n",
    "    projectable_full = TCIA.makeprojectable(Float64, quanticsfuncs.fI_full,\n",
    "                                            localdims)\n",
    "\n",
    "    initialpivots = [QG.origcoord_to_quantics(grid, 0)]\n",
    "    full_patches = TCIA.adaptiveinterpolate(projectable_full;\n",
    "                                            maxbonddim, initialpivots, tolerance)\n",
    "\n",
    "    sitedims = [dim.(s) for s in sites.sitesfused]\n",
    "    full_patches = reshape(full_patches, sitedims)\n",
    "    return length(full_patches.data)\n",
    "end;"
   ]
  },
  {
   "cell_type": "markdown",
   "metadata": {},
   "source": [
    "First, we fix $D_\\mathrm{max} = 30$ and vary $R$ from $2$ to $10$."
   ]
  },
  {
   "cell_type": "markdown",
   "metadata": {},
   "source": [
    "<!--"
   ]
  },
  {
   "cell_type": "code",
   "execution_count": null,
   "metadata": {},
   "outputs": [],
   "source": [
    "Rs = 2:10\n",
    "R_npatches = numpatches.(Rs, 30)\n",
    "xlabel = L\"Meshsize $R$\"\n",
    "ylabel = L\"Number of patches in $F^{\\mathrm{d}}$\"\n",
    "title = L\"Tolerance = $10^{-8}$\"\n",
    "axis=(; xlabel, ylabel, yscale=log10, title)"
   ]
  },
  {
   "cell_type": "markdown",
   "metadata": {},
   "source": [
    "-->"
   ]
  },
  {
   "cell_type": "code",
   "execution_count": null,
   "metadata": {},
   "outputs": [],
   "source": [
    "scatter(Rs, R_npatches; axis)"
   ]
  },
  {
   "cell_type": "markdown",
   "metadata": {},
   "source": [
    "The number of patches created seems to go roughly exponentially with $R$ at the start and level off at higher values.\n",
    "To try and see if it saturates eventually, we increase the tolerance used in interpolating the vertex from the default value $10^{-8}$ to $10^{-4}$, enabling us to compute higher $R$ values in a reasonable time."
   ]
  },
  {
   "cell_type": "markdown",
   "metadata": {},
   "source": [
    "<!--"
   ]
  },
  {
   "cell_type": "code",
   "execution_count": null,
   "metadata": {},
   "outputs": [],
   "source": [
    "R_hightols = 2:18\n",
    "R_hightol_npatches = numpatches.(R_hightols, 30, 1e-4);\n",
    "xlabel = L\"Meshsize $R$\"\n",
    "ylabel = L\"Number of patches in $F^{\\mathrm{d}}$\"\n",
    "title = L\"Tolerance = $10^{-4}$\"\n",
    "axis=(; xlabel, ylabel, yscale=log10, title)"
   ]
  },
  {
   "cell_type": "markdown",
   "metadata": {},
   "source": [
    "-->"
   ]
  },
  {
   "cell_type": "code",
   "execution_count": null,
   "metadata": {},
   "outputs": [],
   "source": [
    "scatter(R_hightols, R_hightol_npatches; axis)"
   ]
  },
  {
   "cell_type": "markdown",
   "metadata": {},
   "source": [
    "While not completely saturating, the growth rate of the number of patches continues to slow.\n",
    "\n",
    "Next, we fix $R = 6$ and vary $D_\\mathrm{max}$ from $10$ to $120$."
   ]
  },
  {
   "cell_type": "markdown",
   "metadata": {},
   "source": [
    "<!--"
   ]
  },
  {
   "cell_type": "code",
   "execution_count": null,
   "metadata": {},
   "outputs": [],
   "source": [
    "maxbonddims = 10:2:120\n",
    "maxbonddim_npatches = numpatches.(6, maxbonddims);\n",
    "xlabel = L\"Max Bond Dimension $D_\\mathrm{max}$\"\n",
    "ylabel = L\"Number of patches in $F^{\\mathrm{d}}$\"\n",
    "axis=(; xlabel, ylabel)"
   ]
  },
  {
   "cell_type": "markdown",
   "metadata": {},
   "source": [
    "-->"
   ]
  },
  {
   "cell_type": "code",
   "execution_count": null,
   "metadata": {},
   "outputs": [],
   "source": [
    "scatter(maxbonddims, maxbonddim_npatches; axis)"
   ]
  },
  {
   "cell_type": "markdown",
   "metadata": {},
   "source": [
    "The number of patches decreases linearly with increasing bond dimension $D_\\mathrm{max}$ before reaching 8 at $D_\\mathrm{max} = 65$.\n",
    "The bond dimension necessary to cover the entire box with a single tensor train at the requested accuracy of $10^{-8}$ is $D = 267$, so:"
   ]
  },
  {
   "cell_type": "code",
   "execution_count": null,
   "metadata": {},
   "outputs": [],
   "source": [
    "@show numpatches(6, 266) numpatches(6, 267);"
   ]
  },
  {
   "cell_type": "markdown",
   "metadata": {},
   "source": [
    "<!--"
   ]
  }
 ],
 "metadata": {
  "kernelspec": {
   "display_name": "Julia 1.11.1",
   "language": "julia",
   "name": "julia-1.11"
  },
  "language_info": {
   "file_extension": ".jl",
   "mimetype": "application/julia",
   "name": "julia",
   "version": "1.11.1"
  }
 },
 "nbformat": 4,
 "nbformat_minor": 2
}
