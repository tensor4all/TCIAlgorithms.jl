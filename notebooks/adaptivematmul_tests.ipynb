{
 "cells": [
  {
   "cell_type": "code",
   "execution_count": null,
   "metadata": {},
   "outputs": [],
   "source": [
    "using Revise\n",
    "using Random\n",
    "\n",
    "import QuanticsGrids as QG\n",
    "import TensorCrossInterpolation as TCI\n",
    "using Test\n",
    "using TCIITensorConversion\n",
    "import TCIAlgorithms as TCIA\n",
    "using OvercompleteIR\n",
    "import OvercompleteIR: PHConvention, freq_box\n",
    "import OvercompleteIR.Atom: HubbardAtom, MagneticChannel, chi0, full_vertex, gamma, chi, channel_reducible_vertex\n",
    "using SparseIR\n",
    "using ITensors\n",
    "import Quantics"
   ]
  },
  {
   "cell_type": "markdown",
   "metadata": {},
   "source": [
    "## 2D Gaussian * 2D Gaussian"
   ]
  },
  {
   "cell_type": "code",
   "execution_count": null,
   "metadata": {},
   "outputs": [],
   "source": [
    "Random.seed!(1234)\n",
    "gaussian(x, y) = exp(-0.5 * (x^2 + y^2))\n",
    "R = 20\n",
    "xmax = 10.0\n",
    "grid = QG.DiscretizedGrid{2}(R, (-xmax, -xmax), (xmax, xmax))\n",
    "grid1 = QG.DiscretizedGrid{1}(R, -xmax, xmax)\n",
    "localdims = fill(4, R)\n",
    "sitedims = [[2, 2] for _ in 1:R]\n",
    "qf = x -> gaussian(QG.quantics_to_origcoord(grid, x)...)\n",
    "\n",
    "pordering = TCIA.PatchOrdering(collect(1:R))"
   ]
  },
  {
   "cell_type": "code",
   "execution_count": null,
   "metadata": {},
   "outputs": [],
   "source": [
    "\n",
    "expttpatches = reshape(\n",
    "    TCIA.adaptiveinterpolate(\n",
    "        TCIA.makeprojectable(Float64, qf, localdims), pordering; verbosity=0, maxbonddim=30\n",
    "    ),\n",
    "    sitedims,\n",
    ")"
   ]
  },
  {
   "cell_type": "code",
   "execution_count": null,
   "metadata": {},
   "outputs": [],
   "source": [
    "#4 patches => expttpatches has 4 elements, exptt only 1 patch\n",
    "@show length(expttpatches)\n",
    "@show expttpatches[1].projector\n",
    "@show expttpatches[2].projector\n",
    "@show expttpatches[3].projector\n",
    "@show expttpatches[4].projector"
   ]
  },
  {
   "cell_type": "code",
   "execution_count": null,
   "metadata": {},
   "outputs": [],
   "source": [
    "# all patches have maxbonddim = 26\n",
    "@show TCI.linkdims(expttpatches[1].data)\n",
    "@show TCI.linkdims(expttpatches[2].data)\n",
    "@show TCI.linkdims(expttpatches[3].data)\n",
    "@show TCI.linkdims(expttpatches[4].data)"
   ]
  },
  {
   "cell_type": "code",
   "execution_count": null,
   "metadata": {},
   "outputs": [],
   "source": [
    "#matrix multiplication of the 2d Gaussians\n",
    "product = TCIA.adaptivematmul(expttpatches, expttpatches, pordering; maxbonddim=50)"
   ]
  },
  {
   "cell_type": "code",
   "execution_count": null,
   "metadata": {},
   "outputs": [],
   "source": [
    "#we get 8 resulting patches with a maximum bond dimension < 50\n",
    "@show length(product)\n",
    "for i in 1:length(product)\n",
    "    @show product[i].data \n",
    "end"
   ]
  },
  {
   "cell_type": "code",
   "execution_count": null,
   "metadata": {},
   "outputs": [],
   "source": [
    "nested_quantics(x, y) = [\n",
    "            collect(p) for\n",
    "            p in zip(QG.origcoord_to_quantics(grid1, x), QG.origcoord_to_quantics(grid1, y))\n",
    "        ]\n",
    "\n",
    "points = [(rand() * 10 - 5, rand() * 10 - 5) for i in 1:100];"
   ]
  },
  {
   "cell_type": "code",
   "execution_count": null,
   "metadata": {},
   "outputs": [],
   "source": [
    "#exact solution for integration \n",
    "expproduct(x, y) =  sqrt(π) * exp(-0.5 * (x^2 + y^2)) #integrated out exp(-z^2)dz"
   ]
  },
  {
   "cell_type": "code",
   "execution_count": null,
   "metadata": {},
   "outputs": [],
   "source": [
    "@test isapprox(\n",
    "            [expproduct(p...) for p in points],\n",
    "            (2xmax / 2^R) .* [product(nested_quantics(p...)) for p in points], #(2xmax/2^R) = Δx, Δy\n",
    "            atol=1e-3,\n",
    "        )"
   ]
  },
  {
   "cell_type": "markdown",
   "metadata": {},
   "source": [
    "## $\\int_{z=0}^1 (xz)*(zy)^2 dz = \\frac{xy^2}{4}$"
   ]
  },
  {
   "cell_type": "code",
   "execution_count": null,
   "metadata": {},
   "outputs": [],
   "source": [
    "Random.seed!(1234)\n",
    "f1(x, y) = x*y \n",
    "f2(x, y) = (x*y)^2 \n",
    "R = 20\n",
    "grid = QG.DiscretizedGrid{2}(R, (0, 0), (1, 1))\n",
    "grid1 = QG.DiscretizedGrid{1}(R, 0, 1)\n",
    "localdims = fill(4, R)\n",
    "sitedims = [[2, 2] for _ in 1:R]\n",
    "qf1 = x -> f1(QG.quantics_to_origcoord(grid, x)...)\n",
    "qf2 = x -> f2(QG.quantics_to_origcoord(grid, x)...)\n",
    "\n",
    "pordering = TCIA.PatchOrdering(collect(1:R))\n",
    "    "
   ]
  },
  {
   "cell_type": "code",
   "execution_count": null,
   "metadata": {},
   "outputs": [],
   "source": [
    "tt_f1 = reshape(\n",
    "    TCIA.adaptiveinterpolate(\n",
    "        TCIA.makeprojectable(Float64, qf1, localdims), pordering; verbosity=0\n",
    "    ),\n",
    "    sitedims,\n",
    ")"
   ]
  },
  {
   "cell_type": "code",
   "execution_count": null,
   "metadata": {},
   "outputs": [],
   "source": [
    "tt_f2 = reshape(\n",
    "    TCIA.adaptiveinterpolate(\n",
    "        TCIA.makeprojectable(Float64, qf2, localdims), pordering; verbosity=0\n",
    "    ),\n",
    "    sitedims,\n",
    ")"
   ]
  },
  {
   "cell_type": "code",
   "execution_count": null,
   "metadata": {},
   "outputs": [],
   "source": [
    "# without maxbonddim constraint single tensor trains\n",
    "@show length(tt_f1)\n",
    "@show length(tt_f2)\n",
    "@show TCI.linkdims(tt_f1[1].data)\n",
    "@show TCI.linkdims(tt_f2[1].data)"
   ]
  },
  {
   "cell_type": "code",
   "execution_count": null,
   "metadata": {},
   "outputs": [],
   "source": [
    "#now with maxbonddim = 8\n",
    "# single patch\n",
    "tt_f1_patches = reshape(\n",
    "    TCIA.adaptiveinterpolate(\n",
    "        TCIA.makeprojectable(Float64, qf1, localdims), pordering; verbosity=0, maxbonddim=8\n",
    "    ),\n",
    "    sitedims,\n",
    ")"
   ]
  },
  {
   "cell_type": "code",
   "execution_count": null,
   "metadata": {},
   "outputs": [],
   "source": [
    "#85 patches\n",
    "tt_f2_patches = reshape(\n",
    "    TCIA.adaptiveinterpolate(\n",
    "        TCIA.makeprojectable(Float64, qf2, localdims), pordering; verbosity=0, maxbonddim=8\n",
    "    ),\n",
    "    sitedims,\n",
    ")"
   ]
  },
  {
   "cell_type": "code",
   "execution_count": null,
   "metadata": {},
   "outputs": [],
   "source": [
    "@show length(tt_f1_patches)\n",
    "@show length(tt_f2_patches)\n",
    "@show TCI.linkdims(tt_f1_patches[1].data)\n",
    "@show TCI.linkdims(tt_f2_patches[1].data)"
   ]
  },
  {
   "cell_type": "code",
   "execution_count": null,
   "metadata": {},
   "outputs": [],
   "source": [
    "product_without_patches = TCIA.adaptivematmul(tt_f1, tt_f2, pordering)"
   ]
  },
  {
   "cell_type": "code",
   "execution_count": null,
   "metadata": {},
   "outputs": [],
   "source": [
    "product = TCIA.adaptivematmul(tt_f1_patches, tt_f2_patches, pordering; maxbonddim=20)"
   ]
  },
  {
   "cell_type": "code",
   "execution_count": null,
   "metadata": {},
   "outputs": [],
   "source": [
    "# product has 85 elements\n",
    "@show length(product_without_patches)\n",
    "@show length(product)"
   ]
  },
  {
   "cell_type": "code",
   "execution_count": null,
   "metadata": {},
   "outputs": [],
   "source": [
    "nested_quantics(x, y) = [\n",
    "            collect(p) for\n",
    "            p in zip(QG.origcoord_to_quantics(grid1, x), QG.origcoord_to_quantics(grid1, y))\n",
    "        ]\n",
    "\n",
    "points = [(rand(), rand()) for i in 1:100];\n",
    "exact_product(x, y) =  x*y^2/4 #integrated (xy)*(yz)^2 dz from 0 to 1"
   ]
  },
  {
   "cell_type": "code",
   "execution_count": null,
   "metadata": {},
   "outputs": [],
   "source": [
    "#test without patches\n",
    "@test isapprox(\n",
    "            [exact_product(p...) for p in points],\n",
    "            (1 / 2^R) .* [product_without_patches(nested_quantics(p...)) for p in points],\n",
    "            atol=1e-4,\n",
    "        )"
   ]
  },
  {
   "cell_type": "code",
   "execution_count": null,
   "metadata": {},
   "outputs": [],
   "source": [
    "#test with patches\n",
    "@test isapprox(\n",
    "            [exact_product(p...) for p in points],\n",
    "            (1 / 2^R) .* [product(nested_quantics(p...)) for p in points],\n",
    "            atol=1e-4,\n",
    "        )"
   ]
  },
  {
   "cell_type": "markdown",
   "metadata": {},
   "source": [
    "## product of diagonal matrices"
   ]
  },
  {
   "cell_type": "markdown",
   "metadata": {},
   "source": [
    "### $x^2 * x^3$ in diagonals => problem can occur"
   ]
  },
  {
   "cell_type": "code",
   "execution_count": null,
   "metadata": {},
   "outputs": [],
   "source": [
    "Random.seed!(1234)\n",
    "f1(x, y) =  ==(x,y)*x^2 # diagonal matrix with x^2 in diagonal\n",
    "f2(x, y) =  ==(x,y)*(x^3) # diagonal matrix with x^3 in diagonal\n",
    "R = 5\n",
    "grid = QG.InherentDiscreteGrid{2}(R, (0, 0), step=(1, 1)) # from 0 to 2^R-1 = 31\n",
    "grid1 = QG.InherentDiscreteGrid{1}(R, 0, step=1)\n",
    "localdims = fill(4, R)\n",
    "sitedims = [[2, 2] for _ in 1:R]\n",
    "qf1 = x -> f1(QG.quantics_to_origcoord(grid, x)...)\n",
    "qf2 = x -> f2(QG.quantics_to_origcoord(grid, x)...)\n",
    "initialpivots = [QG.origcoord_to_quantics(grid,(31,31))] #largest element\n",
    "pordering = TCIA.PatchOrdering(collect(1:R))\n",
    "    "
   ]
  },
  {
   "cell_type": "code",
   "execution_count": null,
   "metadata": {},
   "outputs": [],
   "source": [
    "tt_f1 = reshape(\n",
    "    TCIA.adaptiveinterpolate(\n",
    "        TCIA.makeprojectable(Float64, qf1, localdims), pordering,initialpivots=initialpivots, verbosity=0\n",
    "    ),\n",
    "    sitedims,\n",
    ")"
   ]
  },
  {
   "cell_type": "code",
   "execution_count": null,
   "metadata": {},
   "outputs": [],
   "source": [
    "tt_f2 = reshape(\n",
    "    TCIA.adaptiveinterpolate(\n",
    "        TCIA.makeprojectable(Float64, qf2, localdims), pordering,initialpivots=initialpivots, verbosity=0\n",
    "    ),\n",
    "    sitedims,\n",
    ")"
   ]
  },
  {
   "cell_type": "code",
   "execution_count": null,
   "metadata": {},
   "outputs": [],
   "source": [
    "@show TCI.linkdims(tt_f1[1].data)\n",
    "@show TCI.linkdims(tt_f2[1].data)\n",
    "@show length(tt_f1)\n",
    "@show length(tt_f2)"
   ]
  },
  {
   "cell_type": "code",
   "execution_count": null,
   "metadata": {},
   "outputs": [],
   "source": [
    "#1 patch\n",
    "tt_f1_patches = reshape(\n",
    "    TCIA.adaptiveinterpolate(\n",
    "        TCIA.makeprojectable(Float64, qf1, localdims), pordering,initialpivots=initialpivots, verbosity=0, maxbonddim=4\n",
    "    ),\n",
    "    sitedims,\n",
    ")"
   ]
  },
  {
   "cell_type": "code",
   "execution_count": null,
   "metadata": {},
   "outputs": [],
   "source": [
    "#10 patches\n",
    "tt_f2_patches = reshape(\n",
    "    TCIA.adaptiveinterpolate(\n",
    "        TCIA.makeprojectable(Float64, qf2, localdims), pordering,initialpivots=initialpivots, verbosity=0, maxbonddim=4\n",
    "    ),\n",
    "    sitedims,\n",
    ")"
   ]
  },
  {
   "cell_type": "code",
   "execution_count": null,
   "metadata": {},
   "outputs": [],
   "source": [
    "@show length(tt_f1_patches)\n",
    "@show length(tt_f2_patches)\n",
    "@show TCI.linkdims(tt_f1_patches[1].data)\n",
    "@show TCI.linkdims(tt_f2_patches[1].data)"
   ]
  },
  {
   "cell_type": "code",
   "execution_count": null,
   "metadata": {},
   "outputs": [],
   "source": [
    "product_without_patches = TCIA.adaptivematmul(tt_f1, tt_f2, pordering; maxbonddim=10)"
   ]
  },
  {
   "cell_type": "code",
   "execution_count": null,
   "metadata": {},
   "outputs": [],
   "source": [
    "product = TCIA.adaptivematmul(tt_f1_patches, tt_f2_patches, pordering; maxbonddim=10)"
   ]
  },
  {
   "cell_type": "code",
   "execution_count": null,
   "metadata": {},
   "outputs": [],
   "source": [
    "@show length(product)\n",
    "@show length(product_without_patches)"
   ]
  },
  {
   "cell_type": "code",
   "execution_count": null,
   "metadata": {},
   "outputs": [],
   "source": [
    "nested_quantics(x, y) = [\n",
    "            collect(p) for\n",
    "            p in zip(QG.origcoord_to_quantics(grid1, x), QG.origcoord_to_quantics(grid1, y))\n",
    "        ]\n",
    "\n",
    "A = zeros(2^R,2^R) .+ 0.0\n",
    "B=zeros(2^R,2^R) .+ 0.0\n",
    "for i in 0:2^R-1\n",
    "    A[i+1,i+1] =  i^2\n",
    "    B[i+1,i+1] = i^3 \n",
    "end\n",
    "C= A*B\n",
    "\n",
    "product_matrix = zeros(2^R,2^R) .+ 0.0\n",
    "product_matrix_without_patches = zeros(2^R,2^R) .+ 0.0\n",
    "for i in 0:2^R-1\n",
    "    product_matrix[i+1,i+1]=product(nested_quantics(i,i))\n",
    "    product_matrix_without_patches[i+1,i+1]=product_without_patches(nested_quantics(i,i))\n",
    "end"
   ]
  },
  {
   "cell_type": "code",
   "execution_count": null,
   "metadata": {},
   "outputs": [],
   "source": [
    "@show maximum(abs.(product_matrix.-C)) \n",
    "@show maximum(abs.(product_matrix_without_patches.-C)) "
   ]
  },
  {
   "cell_type": "code",
   "execution_count": null,
   "metadata": {},
   "outputs": [],
   "source": [
    "@test maximum(abs.(product_matrix.-C)) < 1e-5\n",
    "@test maximum(abs.(product_matrix_without_patches.-C)) < 1e-5"
   ]
  },
  {
   "cell_type": "markdown",
   "metadata": {},
   "source": [
    "#### check adaptiveinterpolate of diagonal matrix"
   ]
  },
  {
   "cell_type": "markdown",
   "metadata": {},
   "source": [
    "here we get problems - sometimes we get 7 patches - then we get problems, if we get 10 patches it works"
   ]
  },
  {
   "cell_type": "code",
   "execution_count": null,
   "metadata": {},
   "outputs": [],
   "source": [
    "tt_f2_matrix = zeros(2^R,2^R) .+ 0.0\n",
    "for k in 1:15\n",
    "    initialpivots = [QG.origcoord_to_quantics(grid,(15,15))]\n",
    "    tt_f2_patches = reshape(\n",
    "        TCIA.adaptiveinterpolate(\n",
    "            TCIA.makeprojectable(Float64, qf2, localdims), pordering,initialpivots=initialpivots, verbosity=0, maxbonddim=4\n",
    "        ),\n",
    "        sitedims,\n",
    "    )\n",
    "\n",
    "    f2_matrix = zeros(2^R,2^R) .+ 0.0\n",
    "    for i in 0:2^R-1\n",
    "        f2_matrix[i+1,i+1] =  i^3\n",
    "    end\n",
    "\n",
    "    tt_f2_matrix = zeros(2^R,2^R) .+ 0.0\n",
    "    for i in 0:2^R-1\n",
    "        tt_f2_matrix[i+1,i+1]=tt_f2_patches(nested_quantics(i,i))\n",
    "    end\n",
    "\n",
    "    @show maximum(abs.(f2_matrix.-tt_f2_matrix))\n",
    "    @show length(tt_f2_patches)\n",
    "end"
   ]
  },
  {
   "cell_type": "code",
   "execution_count": null,
   "metadata": {},
   "outputs": [],
   "source": [
    "for i in 1:32\n",
    "    println(tt_f2_matrix[i,i])\n",
    "end"
   ]
  },
  {
   "cell_type": "markdown",
   "metadata": {},
   "source": [
    "## diagonal matrices"
   ]
  },
  {
   "cell_type": "code",
   "execution_count": null,
   "metadata": {},
   "outputs": [],
   "source": [
    "Random.seed!(1234)\n",
    "f1(x, y) =  ==(x,y)*x^2 # diagonal matrix with x^2 in diagonal\n",
    "f2(x, y) =  ==(x,y)*(x^3) # diagonal matrix with x^3 in diagonal\n",
    "R = 5\n",
    "grid = QG.InherentDiscreteGrid{2}(R, (0, 0), step=(1, 1)) # from 0 to 2^R-1 = 31\n",
    "grid1 = QG.InherentDiscreteGrid{1}(R, 0, step=1)\n",
    "localdims = fill(4, R)\n",
    "sitedims = [[2, 2] for _ in 1:R]\n",
    "qf1 = x -> f1(QG.quantics_to_origcoord(grid, x)...)\n",
    "qf2 = x -> f2(QG.quantics_to_origcoord(grid, x)...)\n",
    "initialpivots = [QG.origcoord_to_quantics(grid,(2^R-1,2^R-1))] #largest element\n",
    "pordering = TCIA.PatchOrdering(collect(1:R))\n",
    "  \n",
    "tt_f1 = reshape(\n",
    "    TCIA.adaptiveinterpolate(\n",
    "        TCIA.makeprojectable(Float64, qf1, localdims), pordering,initialpivots=initialpivots, verbosity=0\n",
    "    ),\n",
    "    sitedims,\n",
    ")\n",
    "\n",
    "tt_f2 = reshape(\n",
    "    TCIA.adaptiveinterpolate(\n",
    "        TCIA.makeprojectable(Float64, qf2, localdims), pordering,initialpivots=initialpivots, verbosity=0\n",
    "    ),\n",
    "    sitedims,\n",
    ")"
   ]
  },
  {
   "cell_type": "code",
   "execution_count": null,
   "metadata": {},
   "outputs": [],
   "source": [
    "tt_f1_projected = TCIA.ProjTTContainer([\n",
    "    TCIA.project(tt_f1[1], p) for p in [\n",
    "        TCIA.Projector([[1, 1], [0, 0], [0, 0], [0, 0], [0, 0]], sitedims),\n",
    "        TCIA.Projector([[2, 2], [0, 0], [0, 0], [0, 0], [0, 0]], sitedims),\n",
    "    ]\n",
    "])"
   ]
  },
  {
   "cell_type": "code",
   "execution_count": null,
   "metadata": {},
   "outputs": [],
   "source": [
    "tt_f2_projected = TCIA.ProjTTContainer([\n",
    "    TCIA.project(tt_f2[1], p) for p in [\n",
    "        TCIA.Projector([[1, 1], [0, 0], [0, 0], [0, 0], [0, 0]], sitedims),\n",
    "        TCIA.Projector([[2, 2], [0, 0], [0, 0], [0, 0], [0, 0]], sitedims),\n",
    "    ]\n",
    "])"
   ]
  },
  {
   "cell_type": "code",
   "execution_count": null,
   "metadata": {},
   "outputs": [],
   "source": [
    "product = TCIA.adaptivematmul(tt_f1_projected, tt_f2_projected, pordering; maxbonddim=5)\n",
    "product_without_patches = TCIA.adaptivematmul(tt_f1_projected, tt_f2_projected, pordering; maxbonddim=10)"
   ]
  },
  {
   "cell_type": "code",
   "execution_count": null,
   "metadata": {},
   "outputs": [],
   "source": [
    "# two patches\n",
    "@show length(product)\n",
    "@show length(product_without_patches)\n",
    "for i in 1:length(product)\n",
    "    @show TCI.linkdims(product[i].data)\n",
    "end\n",
    "@show TCI.linkdims(product_without_patches[1].data)"
   ]
  },
  {
   "cell_type": "code",
   "execution_count": null,
   "metadata": {},
   "outputs": [],
   "source": [
    "nested_quantics(x, y) = [\n",
    "            collect(p) for\n",
    "            p in zip(QG.origcoord_to_quantics(grid1, x), QG.origcoord_to_quantics(grid1, y))\n",
    "        ]\n",
    "\n",
    "A = zeros(2^R,2^R) .+ 0.0\n",
    "B=zeros(2^R,2^R) .+ 0.0\n",
    "for i in 0:2^R-1\n",
    "    A[i+1,i+1] =  i^2\n",
    "    B[i+1,i+1] = i^3 \n",
    "end\n",
    "C= A*B\n",
    "\n",
    "product_matrix = zeros(2^R,2^R) .+ 0.0\n",
    "product_matrix_without_patches = zeros(2^R,2^R) .+ 0.0\n",
    "for i in 0:2^R-1, j in 0:2^R-1\n",
    "    product_matrix[i+1,j+1]=product(nested_quantics(i,j))\n",
    "    product_matrix_without_patches[i+1,j+1]=product_without_patches(nested_quantics(i,j))\n",
    "end"
   ]
  },
  {
   "cell_type": "code",
   "execution_count": null,
   "metadata": {},
   "outputs": [],
   "source": [
    "@show maximum(abs.(product_matrix.-C)) \n",
    "@show maximum(abs.(product_matrix_without_patches.-C)) \n",
    "@test maximum(abs.(product_matrix.-C)) < 1e-5\n",
    "@test maximum(abs.(product_matrix_without_patches.-C)) < 1e-5\n"
   ]
  },
  {
   "cell_type": "markdown",
   "metadata": {},
   "source": [
    "## BSE"
   ]
  },
  {
   "cell_type": "code",
   "execution_count": null,
   "metadata": {},
   "outputs": [],
   "source": [
    "U=1.0\n",
    "beta = 1.0\n",
    "R=7\n",
    "maxdim = 100\n",
    "tol = 1e-8\n",
    "N = 2^R\n",
    "halfN = 2^(R-1)\n",
    "halfN_comp = 2^3\n",
    "ch_d = DensityChannel()\n",
    "ch_m = MagneticChannel()\n",
    "ch_t = TripletChannel()\n",
    "ch_s = SingletChannel()\n",
    "conv = PHConvention()\n",
    "model = HubbardAtom(U, beta)\n",
    "\n",
    "#we use interleaved representation\n",
    "grid = QG.InherentDiscreteGrid{2}(R,(-halfN,-halfN);step=(1,1), unfoldingscheme=:fused)\n",
    "grid1 = QG.InherentDiscreteGrid{1}(R, -halfN;step=1)\n",
    "localdims = fill(4, R)\n",
    "sitedims = [[2, 2] for _ in 1:R]\n",
    "pordering = TCIA.PatchOrdering(collect(1:R))\n",
    "\n",
    "#########################quantics functions##############################\n",
    "##########absorb 1/β^2 into chi0 function!!!!!\n",
    "fq_chi0_ph(x,y)= 1/beta^2*chi0(ch_m,model,(FermionicFreq(2*x+1), FermionicFreq(2*y+1),BosonicFreq(0)))\n",
    "fI_chi0_ph = QG.quanticsfunction(ComplexF64,grid,fq_chi0_ph)\n",
    "fq_full_d(x,y)= full_vertex(ch_d,model,(FermionicFreq(2*x+1), FermionicFreq(2*y+1),BosonicFreq(0)))\n",
    "fI_full_d = QG.quanticsfunction(ComplexF64,grid,fq_full_d)\n",
    "fq_gamma_d(x,y)= gamma(ch_d,model,(FermionicFreq(2*x+1), FermionicFreq(2*y+1),BosonicFreq(0)))\n",
    "fI_gamma_d = QG.quanticsfunction(ComplexF64,grid,fq_gamma_d)\n",
    "#########################################################################\n"
   ]
  },
  {
   "cell_type": "code",
   "execution_count": null,
   "metadata": {},
   "outputs": [],
   "source": [
    "νs = FermionicFreq.((2n+1 for n in -halfN:halfN-1))\n",
    "chi0_ph_box_data = [1/beta^2*chi0(ch_d,model,(ν, νp,BosonicFreq(0))) for ν in νs, νp in νs]\n",
    "gamma_d_box_data = [gamma(ch_d,model,(ν, νp,BosonicFreq(0))) for ν in νs, νp in νs]\n",
    "full_d_box_data = [full_vertex(ch_d,model,(ν, νp,BosonicFreq(0))) for ν in νs, νp in νs];"
   ]
  },
  {
   "cell_type": "code",
   "execution_count": null,
   "metadata": {},
   "outputs": [],
   "source": [
    "chi0_patches = reshape(\n",
    "    TCIA.adaptiveinterpolate(\n",
    "        TCIA.makeprojectable(Float64, fI_chi0_ph, localdims), pordering; verbosity=0, maxbonddim=maxdim\n",
    "    ),\n",
    "    sitedims,\n",
    ")"
   ]
  },
  {
   "cell_type": "code",
   "execution_count": null,
   "metadata": {},
   "outputs": [],
   "source": [
    "sitesx = [Index(2, \"Qubit, x=$n\") for n = 1:R]\n",
    "sitesy = [Index(2, \"Qubit, y=$n\") for n = 1:R]\n",
    "sites_xy = [[sitesx[n],sitesy[n]] for n in 1:R] #fused\n",
    ";"
   ]
  },
  {
   "cell_type": "code",
   "execution_count": null,
   "metadata": {},
   "outputs": [],
   "source": [
    "mps_chi0 = MPS(chi0_patches[1].data, sites=sites_xy)\n",
    "#Quantics.unfuse_siteinds(mps_chi0, Quantics.siteinds(mps_chi0), sites_xy) "
   ]
  },
  {
   "cell_type": "code",
   "execution_count": null,
   "metadata": {},
   "outputs": [],
   "source": [
    "@show length(chi0_patches)"
   ]
  },
  {
   "cell_type": "code",
   "execution_count": null,
   "metadata": {},
   "outputs": [],
   "source": [
    "full_d_patches = reshape(\n",
    "    TCIA.adaptiveinterpolate(\n",
    "        TCIA.makeprojectable(Float64, fI_full_d, localdims), pordering; verbosity=0, maxbonddim=maxdim\n",
    "    ),\n",
    "    sitedims,\n",
    ")"
   ]
  },
  {
   "cell_type": "code",
   "execution_count": null,
   "metadata": {},
   "outputs": [],
   "source": [
    "@show length(full_d_patches)\n",
    "@show TCI.linkdims(full_d_patches[1].data)"
   ]
  },
  {
   "cell_type": "code",
   "execution_count": null,
   "metadata": {},
   "outputs": [],
   "source": [
    "gamma_d_patches = reshape(\n",
    "    TCIA.adaptiveinterpolate(\n",
    "        TCIA.makeprojectable(Float64, fI_gamma_d, localdims), pordering; verbosity=0, maxbonddim=maxdim\n",
    "    ),\n",
    "    sitedims,\n",
    ")"
   ]
  },
  {
   "cell_type": "code",
   "execution_count": null,
   "metadata": {},
   "outputs": [],
   "source": [
    "@show length(gamma_d_patches)"
   ]
  },
  {
   "cell_type": "code",
   "execution_count": null,
   "metadata": {},
   "outputs": [],
   "source": [
    "product = TCIA.adaptivematmul(chi0_patches, full_d_patches, pordering; maxbonddim=maxdim)"
   ]
  },
  {
   "cell_type": "code",
   "execution_count": null,
   "metadata": {},
   "outputs": [],
   "source": [
    "phi_d_patches = TCIA.adaptivematmul(gamma_d_patches, product, pordering; maxbonddim=maxdim)"
   ]
  },
  {
   "cell_type": "code",
   "execution_count": null,
   "metadata": {},
   "outputs": [],
   "source": [
    "Int(round(5.3))"
   ]
  },
  {
   "cell_type": "code",
   "execution_count": null,
   "metadata": {},
   "outputs": [],
   "source": [
    "nested_quantics(x, y) = [\n",
    "            collect(p) for\n",
    "            p in zip(QG.origcoord_to_quantics(grid1, x), QG.origcoord_to_quantics(grid1, y))\n",
    "        ]\n",
    "\n",
    "points = [(Int(round(rand() * N-halfN)), Int(round(rand() * N - halfN))) for i in 1:100];\n",
    "#exact solution for integration \n",
    "phi_d(x, y) =  phi_d_box_data = [full_vertex(ch_d,model,(ν, νp,BosonicFreq(0))) for ν in νs, νp in νs];\n",
    "@test isapprox(\n",
    "            [expproduct(p...) for p in points],\n",
    "            (2xmax / 2^R) .* [product(nested_quantics(p...)) for p in points], #(2xmax/2^R) = Δx, Δy\n",
    "            atol=1e-2,\n",
    "        )"
   ]
  },
  {
   "cell_type": "code",
   "execution_count": null,
   "metadata": {},
   "outputs": [],
   "source": []
  }
 ],
 "metadata": {
  "kernelspec": {
   "display_name": "Julia 1.9.1",
   "language": "julia",
   "name": "julia-1.9"
  },
  "language_info": {
   "file_extension": ".jl",
   "mimetype": "application/julia",
   "name": "julia",
   "version": "1.9.1"
  }
 },
 "nbformat": 4,
 "nbformat_minor": 2
}
